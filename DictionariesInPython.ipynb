{
 "cells": [
  {
   "cell_type": "code",
   "execution_count": 1,
   "id": "221f3048-158f-4456-9811-029608b58fa5",
   "metadata": {},
   "outputs": [],
   "source": [
    "a = {1 : 'Apple'}"
   ]
  },
  {
   "cell_type": "code",
   "execution_count": 2,
   "id": "4fab9ada-dc45-4fca-9071-90f7b6f53005",
   "metadata": {},
   "outputs": [
    {
     "data": {
      "text/plain": [
       "{1: 'Apple'}"
      ]
     },
     "execution_count": 2,
     "metadata": {},
     "output_type": "execute_result"
    }
   ],
   "source": [
    "a"
   ]
  },
  {
   "cell_type": "code",
   "execution_count": 3,
   "id": "aef6c4cc-fd18-4b03-a5c5-77cd826d2b49",
   "metadata": {},
   "outputs": [
    {
     "data": {
      "text/plain": [
       "dict"
      ]
     },
     "execution_count": 3,
     "metadata": {},
     "output_type": "execute_result"
    }
   ],
   "source": [
    "type(a)"
   ]
  },
  {
   "cell_type": "code",
   "execution_count": 4,
   "id": "c9990b71-785b-40a5-83bb-9325e99c1cbb",
   "metadata": {},
   "outputs": [],
   "source": [
    "b = {1 : 'Apple' , 2 :'banana' , 3:'Orange'}"
   ]
  },
  {
   "cell_type": "code",
   "execution_count": 5,
   "id": "8913b082-da21-431e-805f-aa80ce3318d2",
   "metadata": {},
   "outputs": [
    {
     "data": {
      "text/plain": [
       "{1: 'Apple', 2: 'banana', 3: 'Orange'}"
      ]
     },
     "execution_count": 5,
     "metadata": {},
     "output_type": "execute_result"
    }
   ],
   "source": [
    "b"
   ]
  },
  {
   "cell_type": "code",
   "execution_count": 6,
   "id": "f483a7c0-8cfc-4b83-a13a-994e93d4ca93",
   "metadata": {},
   "outputs": [
    {
     "data": {
      "text/plain": [
       "'Apple'"
      ]
     },
     "execution_count": 6,
     "metadata": {},
     "output_type": "execute_result"
    }
   ],
   "source": [
    "b[1]\n"
   ]
  },
  {
   "cell_type": "code",
   "execution_count": 7,
   "id": "8de160a3-f822-438e-81d6-ff1aa857cc2c",
   "metadata": {},
   "outputs": [],
   "source": [
    "b[4] = 'Grapes'"
   ]
  },
  {
   "cell_type": "code",
   "execution_count": 8,
   "id": "dbbbf58e-db6e-4532-ad25-44a018d3c493",
   "metadata": {},
   "outputs": [
    {
     "data": {
      "text/plain": [
       "{1: 'Apple', 2: 'banana', 3: 'Orange', 4: 'Grapes'}"
      ]
     },
     "execution_count": 8,
     "metadata": {},
     "output_type": "execute_result"
    }
   ],
   "source": [
    "b"
   ]
  },
  {
   "cell_type": "code",
   "execution_count": 9,
   "id": "2ee295e7-cb85-4b7b-b62c-e516044f3b55",
   "metadata": {},
   "outputs": [],
   "source": [
    "b.update({5:'Watermelon' , 6:\"Guava\"})"
   ]
  },
  {
   "cell_type": "code",
   "execution_count": 10,
   "id": "ea0a10cd-606a-4a21-8e52-37ba0a8e4c3e",
   "metadata": {},
   "outputs": [
    {
     "data": {
      "text/plain": [
       "{1: 'Apple',\n",
       " 2: 'banana',\n",
       " 3: 'Orange',\n",
       " 4: 'Grapes',\n",
       " 5: 'Watermelon',\n",
       " 6: 'Guava'}"
      ]
     },
     "execution_count": 10,
     "metadata": {},
     "output_type": "execute_result"
    }
   ],
   "source": [
    "b"
   ]
  },
  {
   "cell_type": "code",
   "execution_count": 11,
   "id": "4ef7c22c-1d05-426f-ad02-9a44cb95c512",
   "metadata": {},
   "outputs": [
    {
     "ename": "SyntaxError",
     "evalue": "invalid syntax (3182110448.py, line 1)",
     "output_type": "error",
     "traceback": [
      "\u001b[1;36m  Cell \u001b[1;32mIn[11], line 1\u001b[1;36m\u001b[0m\n\u001b[1;33m    b.del[1]\u001b[0m\n\u001b[1;37m      ^\u001b[0m\n\u001b[1;31mSyntaxError\u001b[0m\u001b[1;31m:\u001b[0m invalid syntax\n"
     ]
    }
   ],
   "source": [
    "b.del[1]"
   ]
  },
  {
   "cell_type": "code",
   "execution_count": 12,
   "id": "fc9a6f37-419c-4f39-a2ee-0f4c5f1b1a85",
   "metadata": {},
   "outputs": [],
   "source": [
    "del b[1]"
   ]
  },
  {
   "cell_type": "code",
   "execution_count": 13,
   "id": "d64693d3-941b-453a-bd73-858c3bed0dd3",
   "metadata": {},
   "outputs": [
    {
     "data": {
      "text/plain": [
       "{2: 'banana', 3: 'Orange', 4: 'Grapes', 5: 'Watermelon', 6: 'Guava'}"
      ]
     },
     "execution_count": 13,
     "metadata": {},
     "output_type": "execute_result"
    }
   ],
   "source": [
    "b"
   ]
  },
  {
   "cell_type": "code",
   "execution_count": 14,
   "id": "c5a43516-5bea-4eb8-bcf3-8a11400ad0ba",
   "metadata": {},
   "outputs": [],
   "source": [
    "c = dict(a=10 , b=15 , c = 20 , d = 25)"
   ]
  },
  {
   "cell_type": "code",
   "execution_count": 15,
   "id": "712f7a40-ef05-409a-8712-60cf93c7a362",
   "metadata": {},
   "outputs": [
    {
     "data": {
      "text/plain": [
       "{'a': 10, 'b': 15, 'c': 20, 'd': 25}"
      ]
     },
     "execution_count": 15,
     "metadata": {},
     "output_type": "execute_result"
    }
   ],
   "source": [
    "c"
   ]
  },
  {
   "cell_type": "code",
   "execution_count": 16,
   "id": "1309f0a2-de0a-4e0d-9d7e-52de68d854d5",
   "metadata": {},
   "outputs": [
    {
     "name": "stdin",
     "output_type": "stream",
     "text": [
      "What is your Name? shanaka\n",
      "What is the course you follow? hey\n"
     ]
    }
   ],
   "source": [
    "name = input(\"What is your Name?\")\n",
    "workshop = input(\"What is the course you follow?\")\n"
   ]
  },
  {
   "cell_type": "code",
   "execution_count": 17,
   "id": "1f2f68f5-a6e6-46a2-a122-37f471345445",
   "metadata": {},
   "outputs": [
    {
     "ename": "NameError",
     "evalue": "name 'responce' is not defined",
     "output_type": "error",
     "traceback": [
      "\u001b[1;31m---------------------------------------------------------------------------\u001b[0m",
      "\u001b[1;31mNameError\u001b[0m                                 Traceback (most recent call last)",
      "Cell \u001b[1;32mIn[17], line 1\u001b[0m\n\u001b[1;32m----> 1\u001b[0m \u001b[43mresponce\u001b[49m\n",
      "\u001b[1;31mNameError\u001b[0m: name 'responce' is not defined"
     ]
    }
   ],
   "source": [
    "responce"
   ]
  },
  {
   "cell_type": "code",
   "execution_count": 18,
   "id": "7117c55b-dd5c-4208-b90b-c01a684dd551",
   "metadata": {},
   "outputs": [
    {
     "name": "stdin",
     "output_type": "stream",
     "text": [
      "What is your Name? shanaka\n",
      "What is the course you follow? hey\n"
     ]
    }
   ],
   "source": [
    "name = input(\"What is your Name?\")\n",
    "workshop = input(\"What is the course you follow?\")\n",
    "response = f\"Hello, {name}! You are following the {workshop} course.\""
   ]
  },
  {
   "cell_type": "code",
   "execution_count": 19,
   "id": "dc4b5f77-ef6a-40b9-a894-f3ab3547f603",
   "metadata": {},
   "outputs": [
    {
     "data": {
      "text/plain": [
       "'Hello, shanaka! You are following the hey course.'"
      ]
     },
     "execution_count": 19,
     "metadata": {},
     "output_type": "execute_result"
    }
   ],
   "source": [
    "response"
   ]
  },
  {
   "cell_type": "code",
   "execution_count": null,
   "id": "59261935-2f90-4bc5-bf08-5ac27852552d",
   "metadata": {},
   "outputs": [],
   "source": []
  }
 ],
 "metadata": {
  "kernelspec": {
   "display_name": "Python 3 (ipykernel)",
   "language": "python",
   "name": "python3"
  },
  "language_info": {
   "codemirror_mode": {
    "name": "ipython",
    "version": 3
   },
   "file_extension": ".py",
   "mimetype": "text/x-python",
   "name": "python",
   "nbconvert_exporter": "python",
   "pygments_lexer": "ipython3",
   "version": "3.11.4"
  }
 },
 "nbformat": 4,
 "nbformat_minor": 5
}

{
 "cells": [
  {
   "cell_type": "code",
   "execution_count": 2,
   "id": "d8563654-772b-44f4-9bfa-8e8297edf56a",
   "metadata": {},
   "outputs": [
    {
     "name": "stdout",
     "output_type": "stream",
     "text": [
      "Hello world\n"
     ]
    }
   ],
   "source": [
    "print(\"Hello world\")"
   ]
  },
  {
   "cell_type": "code",
   "execution_count": 3,
   "id": "a3951e9d-5770-4455-a416-231315d95708",
   "metadata": {},
   "outputs": [
    {
     "name": "stdout",
     "output_type": "stream",
     "text": [
      "Hello world 123\n"
     ]
    }
   ],
   "source": [
    "print(\"Hello world 123\")"
   ]
  },
  {
   "cell_type": "code",
   "execution_count": 4,
   "id": "79175874-c713-4097-9f7c-19274d91bd19",
   "metadata": {},
   "outputs": [],
   "source": [
    "a=[1,5,8,9,]"
   ]
  },
  {
   "cell_type": "code",
   "execution_count": 5,
   "id": "437638c6-d570-4e6d-b1e4-27a79d3bc908",
   "metadata": {},
   "outputs": [
    {
     "data": {
      "text/plain": [
       "[1, 5, 8, 9]"
      ]
     },
     "execution_count": 5,
     "metadata": {},
     "output_type": "execute_result"
    }
   ],
   "source": [
    "a"
   ]
  },
  {
   "cell_type": "code",
   "execution_count": 6,
   "id": "f2b8a850-4c60-467a-af37-cc8876a9cf60",
   "metadata": {},
   "outputs": [
    {
     "data": {
      "text/plain": [
       "list"
      ]
     },
     "execution_count": 6,
     "metadata": {},
     "output_type": "execute_result"
    }
   ],
   "source": [
    "type(a)"
   ]
  },
  {
   "cell_type": "code",
   "execution_count": 8,
   "id": "961d5aa9-84b2-4eab-a778-3cd4f5ef027f",
   "metadata": {},
   "outputs": [],
   "source": [
    "b = [1,2,3, \"hi\" , \"gt\" , True]"
   ]
  },
  {
   "cell_type": "code",
   "execution_count": 9,
   "id": "1799fc85-30af-42a7-8988-aa898899e4c2",
   "metadata": {},
   "outputs": [
    {
     "data": {
      "text/plain": [
       "[1, 2, 3, 'hi', 'gt', True]"
      ]
     },
     "execution_count": 9,
     "metadata": {},
     "output_type": "execute_result"
    }
   ],
   "source": [
    "b\n"
   ]
  },
  {
   "cell_type": "code",
   "execution_count": 10,
   "id": "34ebeaa1-f805-48dc-bed6-eb5d3c5cf60a",
   "metadata": {},
   "outputs": [
    {
     "data": {
      "text/plain": [
       "2"
      ]
     },
     "execution_count": 10,
     "metadata": {},
     "output_type": "execute_result"
    }
   ],
   "source": [
    "b[1]"
   ]
  },
  {
   "cell_type": "code",
   "execution_count": 11,
   "id": "cdafac23-ff65-427e-8590-e44d474cfcaf",
   "metadata": {},
   "outputs": [
    {
     "data": {
      "text/plain": [
       "list"
      ]
     },
     "execution_count": 11,
     "metadata": {},
     "output_type": "execute_result"
    }
   ],
   "source": [
    "type(b)"
   ]
  },
  {
   "cell_type": "code",
   "execution_count": 12,
   "id": "1db2b19a-6f23-4d38-a701-ce55d74055c0",
   "metadata": {},
   "outputs": [
    {
     "data": {
      "text/plain": [
       "int"
      ]
     },
     "execution_count": 12,
     "metadata": {},
     "output_type": "execute_result"
    }
   ],
   "source": [
    "type(b[0])"
   ]
  },
  {
   "cell_type": "code",
   "execution_count": 13,
   "id": "21d398a6-c3f4-4b22-be56-2bb442096d89",
   "metadata": {},
   "outputs": [
    {
     "data": {
      "text/plain": [
       "str"
      ]
     },
     "execution_count": 13,
     "metadata": {},
     "output_type": "execute_result"
    }
   ],
   "source": [
    "type(b[3])"
   ]
  },
  {
   "cell_type": "code",
   "execution_count": 15,
   "id": "001e69b1-40be-4af2-aef8-c3cf58eeea80",
   "metadata": {},
   "outputs": [],
   "source": [
    "import random\n",
    "abc = []\n",
    "for i in range(5):\n",
    "    abc.append(random.randint(0,100))\n",
    "    \n"
   ]
  },
  {
   "cell_type": "code",
   "execution_count": 16,
   "id": "6c7d7ed1-5692-4327-9d43-6d01cadad487",
   "metadata": {},
   "outputs": [
    {
     "data": {
      "text/plain": [
       "[71, 40, 1, 30, 44]"
      ]
     },
     "execution_count": 16,
     "metadata": {},
     "output_type": "execute_result"
    }
   ],
   "source": [
    "abc"
   ]
  },
  {
   "cell_type": "code",
   "execution_count": 19,
   "id": "7fc70ecc-a27b-42d1-8a0d-ae2878a45459",
   "metadata": {},
   "outputs": [],
   "source": [
    "abc.sort()"
   ]
  },
  {
   "cell_type": "code",
   "execution_count": 20,
   "id": "e799e594-4f5c-4d40-86c9-b83f675f3ee8",
   "metadata": {},
   "outputs": [
    {
     "data": {
      "text/plain": [
       "[1, 30, 40, 44, 71]"
      ]
     },
     "execution_count": 20,
     "metadata": {},
     "output_type": "execute_result"
    }
   ],
   "source": [
    "abc"
   ]
  },
  {
   "cell_type": "code",
   "execution_count": 21,
   "id": "3ea24da4-0f51-4085-889a-0fc8d3e7f06d",
   "metadata": {},
   "outputs": [
    {
     "data": {
      "text/plain": [
       "5"
      ]
     },
     "execution_count": 21,
     "metadata": {},
     "output_type": "execute_result"
    }
   ],
   "source": [
    "len(abc)"
   ]
  },
  {
   "cell_type": "code",
   "execution_count": 22,
   "id": "12580d9d-ae57-4266-9264-6226540b5ba6",
   "metadata": {},
   "outputs": [],
   "source": [
    "abc.remove(40)"
   ]
  },
  {
   "cell_type": "code",
   "execution_count": 23,
   "id": "1c77aa19-709f-46f1-b477-d67ffcc3858a",
   "metadata": {},
   "outputs": [
    {
     "data": {
      "text/plain": [
       "[1, 30, 44, 71]"
      ]
     },
     "execution_count": 23,
     "metadata": {},
     "output_type": "execute_result"
    }
   ],
   "source": [
    "abc"
   ]
  },
  {
   "cell_type": "code",
   "execution_count": 24,
   "id": "0e337105-c85c-4e87-a964-b76f18f138d1",
   "metadata": {},
   "outputs": [],
   "source": [
    "abc.insert(0,55)"
   ]
  },
  {
   "cell_type": "code",
   "execution_count": 25,
   "id": "f665fd45-4daf-476c-826f-bc78de302907",
   "metadata": {},
   "outputs": [
    {
     "data": {
      "text/plain": [
       "[55, 1, 30, 44, 71]"
      ]
     },
     "execution_count": 25,
     "metadata": {},
     "output_type": "execute_result"
    }
   ],
   "source": [
    "abc"
   ]
  },
  {
   "cell_type": "code",
   "execution_count": 26,
   "id": "39a5cb6e-d770-456c-bbb8-81c320615f6b",
   "metadata": {},
   "outputs": [
    {
     "data": {
      "text/plain": [
       "<function list.reverse()>"
      ]
     },
     "execution_count": 26,
     "metadata": {},
     "output_type": "execute_result"
    }
   ],
   "source": [
    "abc.reverse"
   ]
  },
  {
   "cell_type": "code",
   "execution_count": 27,
   "id": "99f6a510-8591-400f-874f-e1ddc5d0bbaa",
   "metadata": {},
   "outputs": [],
   "source": [
    "abc.reverse()"
   ]
  },
  {
   "cell_type": "code",
   "execution_count": 28,
   "id": "c117715e-6bfa-4d2d-9535-fdda4dddaea4",
   "metadata": {},
   "outputs": [
    {
     "data": {
      "text/plain": [
       "[71, 44, 30, 1, 55]"
      ]
     },
     "execution_count": 28,
     "metadata": {},
     "output_type": "execute_result"
    }
   ],
   "source": [
    "abc"
   ]
  },
  {
   "cell_type": "code",
   "execution_count": null,
   "id": "e1717645-cde7-462d-a5f8-98bd7d87e15b",
   "metadata": {},
   "outputs": [],
   "source": []
  }
 ],
 "metadata": {
  "kernelspec": {
   "display_name": "Python 3 (ipykernel)",
   "language": "python",
   "name": "python3"
  },
  "language_info": {
   "codemirror_mode": {
    "name": "ipython",
    "version": 3
   },
   "file_extension": ".py",
   "mimetype": "text/x-python",
   "name": "python",
   "nbconvert_exporter": "python",
   "pygments_lexer": "ipython3",
   "version": "3.11.4"
  }
 },
 "nbformat": 4,
 "nbformat_minor": 5
}
